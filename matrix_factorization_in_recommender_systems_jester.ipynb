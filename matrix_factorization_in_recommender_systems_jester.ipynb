{
  "nbformat": 4,
  "nbformat_minor": 0,
  "metadata": {
    "colab": {
      "name": "matrix-factorization-in-recommender-systems-jester.ipynb",
      "version": "0.3.2",
      "provenance": [],
      "collapsed_sections": []
    },
    "kernelspec": {
      "display_name": "Python 3",
      "language": "python",
      "name": "python3"
    }
  },
  "cells": [
    {
      "metadata": {
        "id": "yBqZfgzvDp16",
        "colab_type": "code",
        "colab": {}
      },
      "cell_type": "code",
      "source": [
        "import numpy as np\n",
        "import pandas as pd\n",
        "import matplotlib.pyplot as plt\n",
        "import datetime\n",
        "import random\n",
        "\n",
        "from collections import namedtuple\n",
        "from itertools import product\n",
        "\n",
        "# Jester datasets http://eigentaste.berkeley.edu/dataset/\n",
        "ratings_url = 'https://s3-us-west-2.amazonaws.com/ship-development/jester_ratings.dat'\n",
        "df = pd.read_csv(ratings_url, sep='\\s+', header=None)[0:5000]\n",
        "df.columns = ['user_id', 'item_id', 'rating']\n",
        "\n",
        "unique_users = list(df['user_id'].unique())\n",
        "unique_items = list(df['item_id'].unique())\n",
        "\n",
        "# normalize user_id (from 1 to size of unique_users)\n",
        "# normalize item_id (from 1 to size of unique_items)\n",
        "df.loc[:, 'user_id'] = df.user_id.apply(lambda x: unique_users.index(x) + 1)\n",
        "df.loc[:, 'item_id'] = df.item_id.apply(lambda x: unique_items.index(x) + 1)\n",
        "\n",
        "sparse_data = df.pivot_table(columns=['item_id'], index=['user_id'], values='rating').fillna(0).values"
      ],
      "execution_count": 0,
      "outputs": []
    },
    {
      "metadata": {
        "id": "AAEpW44SSg9y",
        "colab_type": "code",
        "outputId": "83a39c55-34c9-4488-ad11-6d6d58a83b75",
        "colab": {
          "base_uri": "https://localhost:8080/",
          "height": 204
        }
      },
      "cell_type": "code",
      "source": [
        "df.head()"
      ],
      "execution_count": 0,
      "outputs": [
        {
          "output_type": "execute_result",
          "data": {
            "text/html": [
              "<div>\n",
              "<style scoped>\n",
              "    .dataframe tbody tr th:only-of-type {\n",
              "        vertical-align: middle;\n",
              "    }\n",
              "\n",
              "    .dataframe tbody tr th {\n",
              "        vertical-align: top;\n",
              "    }\n",
              "\n",
              "    .dataframe thead th {\n",
              "        text-align: right;\n",
              "    }\n",
              "</style>\n",
              "<table border=\"1\" class=\"dataframe\">\n",
              "  <thead>\n",
              "    <tr style=\"text-align: right;\">\n",
              "      <th></th>\n",
              "      <th>user_id</th>\n",
              "      <th>item_id</th>\n",
              "      <th>rating</th>\n",
              "    </tr>\n",
              "  </thead>\n",
              "  <tbody>\n",
              "    <tr>\n",
              "      <th>0</th>\n",
              "      <td>1</td>\n",
              "      <td>1</td>\n",
              "      <td>0.219</td>\n",
              "    </tr>\n",
              "    <tr>\n",
              "      <th>1</th>\n",
              "      <td>1</td>\n",
              "      <td>2</td>\n",
              "      <td>-9.281</td>\n",
              "    </tr>\n",
              "    <tr>\n",
              "      <th>2</th>\n",
              "      <td>1</td>\n",
              "      <td>3</td>\n",
              "      <td>-9.281</td>\n",
              "    </tr>\n",
              "    <tr>\n",
              "      <th>3</th>\n",
              "      <td>1</td>\n",
              "      <td>4</td>\n",
              "      <td>-6.781</td>\n",
              "    </tr>\n",
              "    <tr>\n",
              "      <th>4</th>\n",
              "      <td>1</td>\n",
              "      <td>5</td>\n",
              "      <td>0.875</td>\n",
              "    </tr>\n",
              "  </tbody>\n",
              "</table>\n",
              "</div>"
            ],
            "text/plain": [
              "   user_id  item_id  rating\n",
              "0        1        1   0.219\n",
              "1        1        2  -9.281\n",
              "2        1        3  -9.281\n",
              "3        1        4  -6.781\n",
              "4        1        5   0.875"
            ]
          },
          "metadata": {
            "tags": []
          },
          "execution_count": 33
        }
      ]
    },
    {
      "metadata": {
        "id": "XV2NDsbYskul",
        "colab_type": "code",
        "outputId": "ffb1da22-2568-4e9d-8899-7bef159953bb",
        "colab": {
          "base_uri": "https://localhost:8080/",
          "height": 136
        }
      },
      "cell_type": "code",
      "source": [
        "sparse_data"
      ],
      "execution_count": 0,
      "outputs": [
        {
          "output_type": "execute_result",
          "data": {
            "text/plain": [
              "array([[ 0.219, -9.281, -9.281, ...,  0.   ,  0.   ,  0.   ],\n",
              "       [-9.688,  9.938,  9.531, ...,  0.   ,  0.   ,  0.   ],\n",
              "       [-9.844, -9.844, -7.219, ...,  0.   ,  0.   ,  0.   ],\n",
              "       ...,\n",
              "       [ 7.062, -8.906, -8.906, ...,  0.   ,  0.   ,  0.   ],\n",
              "       [-7.094, -2.438,  1.469, ...,  0.   ,  0.   ,  0.   ],\n",
              "       [-9.281, -4.594, -8.344, ...,  0.   ,  0.   ,  0.   ]])"
            ]
          },
          "metadata": {
            "tags": []
          },
          "execution_count": 34
        }
      ]
    },
    {
      "metadata": {
        "scrolled": false,
        "id": "3MwRp75HDp1-",
        "colab_type": "code",
        "colab": {}
      },
      "cell_type": "code",
      "source": [
        "random.seed(123)\n",
        "\n",
        "RecommenderResult = namedtuple('RecommenderResult', [\n",
        "    'p', 'q', 'R', 'RSME', 'RSMES', 'time'\n",
        "])\n",
        "\n",
        "def estimate(u, m, p, q):\n",
        "    return np.dot(p[u-1], q[m-1])\n",
        "\n",
        "def rsme(p, q):\n",
        "    squared_errors = []\n",
        "    \n",
        "    for _, row in df.iterrows(): \n",
        "        u, m, r_um = (int(row.user_id), int(row.item_id), float(row.rating))\n",
        "        squared_errors.append((estimate(u, m, p, q) - r_um)**2)\n",
        "        \n",
        "    return np.sqrt(np.sum(squared_errors)/df.shape[0])\n",
        "\n",
        "def rsme_cv(test_set, test_samples, R):\n",
        "    squared_errors = []\n",
        "    \n",
        "    for u, m in test_samples: \n",
        "        r_um = float(test_set[u, m])\n",
        "        squared_errors.append((R[u, m] - r_um)**2)\n",
        "        \n",
        "    return np.sqrt(np.mean(squared_errors))\n",
        "\n",
        "def SGD(data, n_features=5, _lambda=0.0, n_iters=20, interim_rsme=False):\n",
        "    p = np.random.normal(0, .1, (data.shape[0], n_features))\n",
        "    q = np.random.normal(0, .1, (data.shape[1], n_features))\n",
        "    alpha = 0.003 # learning rate\n",
        "    RSMES = []\n",
        "\n",
        "    start = datetime.datetime.now()\n",
        "\n",
        "    for _ in range(n_iters):        \n",
        "        for u, row in enumerate(data):\n",
        "            for m in row.nonzero()[0]:\n",
        "                r_um = float(row[m])\n",
        "                err = r_um - np.dot(p[u], q[m])\n",
        "\n",
        "                p[u] += alpha * (err * q[m] - _lambda * p[u])\n",
        "                q[m] += alpha * (err * p[u] - _lambda * q[m])\n",
        "                \n",
        "        if interim_rsme:\n",
        "            RSMES.append(rsme(p, q))\n",
        "        \n",
        "    time = (datetime.datetime.now() - start).seconds\n",
        "    RSME = rsme(p, q)\n",
        "\n",
        "#     print(f\"SGD finished in {time} secs\")\n",
        "#     print('RSME:', '%.2f' % RSME)\n",
        "    \n",
        "    return RecommenderResult(p, q.T, np.dot(p, q.T), RSME, RSMES, time)\n",
        "\n",
        "def ALS(data, n_features=5, _lambda=0.0, n_iters=5, interim_rsme=False):    \n",
        "    m, n = data.shape\n",
        "    \n",
        "    p = np.random.rand(m, n_features) \n",
        "    q = np.random.rand(n_features, n)\n",
        "    RSMES = []\n",
        "    \n",
        "    start = datetime.datetime.now()\n",
        "\n",
        "    for _ in range(n_iters):\n",
        "        p = np.linalg.solve(np.dot(q, q.T) + _lambda * np.eye(n_features), \n",
        "                            np.dot(q, data.T)).T\n",
        "        q = np.linalg.solve(np.dot(p.T, p) + _lambda * np.eye(n_features),\n",
        "                            np.dot(p.T, data))\n",
        "        if interim_rsme:\n",
        "            RSMES.append(rsme(p, q.T))\n",
        "    \n",
        "    time = (datetime.datetime.now() - start).seconds\n",
        "    RSME = rsme(p, q.T)\n",
        "\n",
        "#     print(f\"ALS finished in {time} secs\")\n",
        "#     print('RSME:', '%.2f' % RSME)\n",
        "    \n",
        "    return RecommenderResult(p, q, np.dot(p, q), RSME, RSMES, time)\n",
        "\n",
        "def split_train_set(data, k=10):\n",
        "    test_set = data.copy()\n",
        "    \n",
        "    nonzero_inds = data.nonzero()\n",
        "    nonzero_pairs = list(zip(nonzero_inds[0], nonzero_inds[1]))\n",
        "    random.shuffle(nonzero_pairs)\n",
        "    \n",
        "    test_samples = [nonzero_pairs[i::k] for i in range(k)]\n",
        "    result = []\n",
        "    \n",
        "    for test_sample in test_samples:    \n",
        "        user_idxs  = [i[0] for i in test_sample]\n",
        "        movie_idxs = [i[1] for i in test_sample]\n",
        "        \n",
        "        train_set = data.copy()\n",
        "        train_set[user_idxs, movie_idxs] = 0\n",
        "        \n",
        "        result.append((train_set, test_set, test_sample))\n",
        "    \n",
        "    return result"
      ],
      "execution_count": 0,
      "outputs": []
    },
    {
      "metadata": {
        "id": "gczzHxlpDp2C",
        "colab_type": "text"
      },
      "cell_type": "markdown",
      "source": [
        "RMSE vs iteration for SGD"
      ]
    },
    {
      "metadata": {
        "id": "Rj35lP7fDp2D",
        "colab_type": "code",
        "outputId": "1c8d1831-66af-440a-c08f-f97d54eeb597",
        "colab": {
          "base_uri": "https://localhost:8080/",
          "height": 376
        }
      },
      "cell_type": "code",
      "source": [
        "train_set = split_train_set(sparse_data)[0][0]\n",
        "sgd_result = SGD(train_set, n_iters=30, interim_rsme=True)\n",
        "\n",
        "plt.plot(sgd_result.RSMES)\n",
        "plt.title('SGD - RMSE vs iteration')\n",
        "plt.xlabel('Iteration')\n",
        "plt.ylabel('RMSE')\n",
        "plt.show()"
      ],
      "execution_count": 0,
      "outputs": [
        {
          "output_type": "display_data",
          "data": {
            "image/png": "[encoded data removed]",
            "text/plain": [
              "<Figure size 576x396 with 1 Axes>"
            ]
          },
          "metadata": {
            "tags": []
          }
        }
      ]
    },
    {
      "metadata": {
        "id": "zQ0jV_MkDp2I",
        "colab_type": "text"
      },
      "cell_type": "markdown",
      "source": [
        "Final RMSE vs Number of features (cross-validation) for SGD"
      ]
    },
    {
      "metadata": {
        "id": "VJ0-FsoiDp2I",
        "colab_type": "code",
        "outputId": "63844849-1966-4f8c-d3ed-55deec69bb96",
        "colab": {
          "base_uri": "https://localhost:8080/",
          "height": 376
        }
      },
      "cell_type": "code",
      "source": [
        "n_features = [1, 3, 5, 10, 20]\n",
        "train_rsmes = []\n",
        "test_rsmes = []\n",
        "    \n",
        "for n in n_features:\n",
        "    n_train_rsmes = []\n",
        "    n_test_rsmes = []\n",
        "    \n",
        "    for train_set, test_set, test_samples in split_train_set(sparse_data)[0:1]:\n",
        "        sgd_result = SGD(train_set, n_features=n, n_iters=30)\n",
        "        n_train_rsmes.append(sgd_result.RSME)\n",
        "        n_test_rsmes.append(rsme_cv(test_set, test_samples, sgd_result.R))\n",
        "    \n",
        "    train_rsmes.append(np.mean(n_train_rsmes))\n",
        "    test_rsmes.append(np.mean(n_test_rsmes))\n",
        "    \n",
        "plt.plot(n_features, train_rsmes, label='Train RSME')\n",
        "plt.plot(n_features, test_rsmes, label='Test RSME')\n",
        "plt.legend()\n",
        "plt.title('SGD - RMSE vs Number of features')\n",
        "plt.xlabel('Number of features')\n",
        "plt.ylabel('Test RMSE')\n",
        "plt.show()"
      ],
      "execution_count": 0,
      "outputs": [
        {
          "output_type": "display_data",
          "data": {
            "image/png": "[encoded data removed]",
            "text/plain": [
              "<Figure size 576x396 with 1 Axes>"
            ]
          },
          "metadata": {
            "tags": []
          }
        }
      ]
    },
    {
      "metadata": {
        "id": "h48BTLI3Dp2M",
        "colab_type": "text"
      },
      "cell_type": "markdown",
      "source": [
        "RMSE vs lambda for SGD"
      ]
    },
    {
      "metadata": {
        "id": "iR3GxAfYDp2O",
        "colab_type": "code",
        "outputId": "7a8b60f9-a873-4b56-a6c5-14319958e99d",
        "colab": {
          "base_uri": "https://localhost:8080/",
          "height": 380
        }
      },
      "cell_type": "code",
      "source": [
        "lambdas = [0, 0.01, 0.1, 1.0, 10.0, 100.0]\n",
        "train_rsmes = []\n",
        "test_rsmes = []\n",
        "    \n",
        "for n in lambdas:\n",
        "    n_train_rsmes = []\n",
        "    n_test_rsmes = []\n",
        "    \n",
        "    for train_set, test_set, test_samples in split_train_set(sparse_data):\n",
        "        sgd_result = SGD(train_set, n_features=10, _lambda=n, n_iters=30)\n",
        "        n_train_rsmes.append(sgd_result.RSME)\n",
        "        n_test_rsmes.append(rsme_cv(test_set, test_samples, sgd_result.R))\n",
        "    \n",
        "    train_rsmes.append(np.mean(n_train_rsmes))\n",
        "    test_rsmes.append(np.mean(n_test_rsmes))\n",
        "    \n",
        "plt.plot(lambdas, train_rsmes, label='Train RSME')\n",
        "plt.plot(lambdas, test_rsmes, label='Test RSME')\n",
        "plt.xscale('log')\n",
        "plt.legend()\n",
        "plt.title('SGD - RMSE vs Lambda')\n",
        "plt.xlabel('Lambda')\n",
        "plt.ylabel('RMSE')\n",
        "plt.show()"
      ],
      "execution_count": 0,
      "outputs": [
        {
          "output_type": "display_data",
          "data": {
            "image/png": "[encoded data removed]",
            "text/plain": [
              "<Figure size 576x396 with 1 Axes>"
            ]
          },
          "metadata": {
            "tags": []
          }
        }
      ]
    },
    {
      "metadata": {
        "id": "pvro95AnDp2R",
        "colab_type": "text"
      },
      "cell_type": "markdown",
      "source": [
        "RMSE vs Number of features and Lambda for SGD"
      ]
    },
    {
      "metadata": {
        "id": "ymuN_-NxDp2R",
        "colab_type": "code",
        "outputId": "5f1cd39e-20ea-4c4e-b58b-b2988a31f923",
        "colab": {
          "base_uri": "https://localhost:8080/",
          "height": 235
        }
      },
      "cell_type": "code",
      "source": [
        "train_set, test_set, test_samples = split_train_set(sparse_data)[0]\n",
        "n_features = [1, 3, 5, 10, 20]\n",
        "lambdas = [0, 0.01, 0.1, 1.0, 10.0, 100.0]\n",
        "results = []\n",
        "\n",
        "for n, l in product(n_features, lambdas):\n",
        "    sgd_result = SGD(train_set, n_features=n, _lambda=l, n_iters=20)\n",
        "    test_rsme = rsme_cv(test_set, test_samples, sgd_result.R)\n",
        "    \n",
        "    results.append({\n",
        "        \"Number of features\": n,\n",
        "        \"Lambdas\": l,\n",
        "        \"Test RMSE\": round(test_rsme, 3)\n",
        "    })\n",
        "    \n",
        "pd.pivot_table(\n",
        "    pd.DataFrame(results), \n",
        "    values='Test RMSE', \n",
        "    index=['Number of features'], \n",
        "    columns=['Lambdas']\n",
        ")"
      ],
      "execution_count": 0,
      "outputs": [
        {
          "output_type": "execute_result",
          "data": {
            "text/html": [
              "<div>\n",
              "<style scoped>\n",
              "    .dataframe tbody tr th:only-of-type {\n",
              "        vertical-align: middle;\n",
              "    }\n",
              "\n",
              "    .dataframe tbody tr th {\n",
              "        vertical-align: top;\n",
              "    }\n",
              "\n",
              "    .dataframe thead th {\n",
              "        text-align: right;\n",
              "    }\n",
              "</style>\n",
              "<table border=\"1\" class=\"dataframe\">\n",
              "  <thead>\n",
              "    <tr style=\"text-align: right;\">\n",
              "      <th>Lambdas</th>\n",
              "      <th>0.0</th>\n",
              "      <th>0.01</th>\n",
              "      <th>0.1</th>\n",
              "      <th>1.0</th>\n",
              "      <th>10.0</th>\n",
              "      <th>100.0</th>\n",
              "    </tr>\n",
              "    <tr>\n",
              "      <th>Number of features</th>\n",
              "      <th></th>\n",
              "      <th></th>\n",
              "      <th></th>\n",
              "      <th></th>\n",
              "      <th></th>\n",
              "      <th></th>\n",
              "    </tr>\n",
              "  </thead>\n",
              "  <tbody>\n",
              "    <tr>\n",
              "      <th>1</th>\n",
              "      <td>5.000</td>\n",
              "      <td>5.008</td>\n",
              "      <td>5.013</td>\n",
              "      <td>5.975</td>\n",
              "      <td>5.988</td>\n",
              "      <td>5.988</td>\n",
              "    </tr>\n",
              "    <tr>\n",
              "      <th>3</th>\n",
              "      <td>4.726</td>\n",
              "      <td>4.811</td>\n",
              "      <td>4.739</td>\n",
              "      <td>5.018</td>\n",
              "      <td>5.988</td>\n",
              "      <td>5.988</td>\n",
              "    </tr>\n",
              "    <tr>\n",
              "      <th>5</th>\n",
              "      <td>4.696</td>\n",
              "      <td>4.956</td>\n",
              "      <td>4.733</td>\n",
              "      <td>4.981</td>\n",
              "      <td>5.988</td>\n",
              "      <td>5.988</td>\n",
              "    </tr>\n",
              "    <tr>\n",
              "      <th>10</th>\n",
              "      <td>4.883</td>\n",
              "      <td>4.716</td>\n",
              "      <td>4.704</td>\n",
              "      <td>4.979</td>\n",
              "      <td>5.988</td>\n",
              "      <td>5.988</td>\n",
              "    </tr>\n",
              "    <tr>\n",
              "      <th>20</th>\n",
              "      <td>4.791</td>\n",
              "      <td>4.700</td>\n",
              "      <td>4.766</td>\n",
              "      <td>4.904</td>\n",
              "      <td>5.988</td>\n",
              "      <td>5.988</td>\n",
              "    </tr>\n",
              "  </tbody>\n",
              "</table>\n",
              "</div>"
            ],
            "text/plain": [
              "Lambdas             0.00    0.01    0.10    1.00    10.00   100.00\n",
              "Number of features                                                \n",
              "1                    5.000   5.008   5.013   5.975   5.988   5.988\n",
              "3                    4.726   4.811   4.739   5.018   5.988   5.988\n",
              "5                    4.696   4.956   4.733   4.981   5.988   5.988\n",
              "10                   4.883   4.716   4.704   4.979   5.988   5.988\n",
              "20                   4.791   4.700   4.766   4.904   5.988   5.988"
            ]
          },
          "metadata": {
            "tags": []
          },
          "execution_count": 39
        }
      ]
    },
    {
      "metadata": {
        "id": "hYaeIT5ZDp2U",
        "colab_type": "text"
      },
      "cell_type": "markdown",
      "source": [
        "RMSE vs iteration for ALS"
      ]
    },
    {
      "metadata": {
        "id": "2YqkenMpDp2W",
        "colab_type": "code",
        "outputId": "6540f9ad-65a3-4287-d4a2-efaec8b7fd18",
        "colab": {
          "base_uri": "https://localhost:8080/",
          "height": 376
        }
      },
      "cell_type": "code",
      "source": [
        "train_set = split_train_set(sparse_data)[0][0]\n",
        "als_result = ALS(train_set, n_features=5, n_iters=10, interim_rsme=True)\n",
        "\n",
        "plt.plot(als_result.RSMES)\n",
        "plt.title('ALS - RMSE vs iteration')\n",
        "plt.xlabel('Iteration')\n",
        "plt.ylabel('RSME')\n",
        "plt.show()"
      ],
      "execution_count": 0,
      "outputs": [
        {
          "output_type": "display_data",
          "data": {
            "image/png": "[encoded data removed]",
            "text/plain": [
              "<Figure size 576x396 with 1 Axes>"
            ]
          },
          "metadata": {
            "tags": []
          }
        }
      ]
    },
    {
      "metadata": {
        "id": "CED800KmDp2Z",
        "colab_type": "text"
      },
      "cell_type": "markdown",
      "source": [
        "Final RMSE vs Number of features (cross-validation) for ALS"
      ]
    },
    {
      "metadata": {
        "id": "bJlWuW1wDp2a",
        "colab_type": "code",
        "outputId": "9ddf8bec-eb2b-4012-d212-ba8054b91cd4",
        "colab": {
          "base_uri": "https://localhost:8080/",
          "height": 376
        }
      },
      "cell_type": "code",
      "source": [
        "n_features = [1, 3, 5, 10, 20]\n",
        "train_rsmes = []\n",
        "test_rsmes = []\n",
        "    \n",
        "for n in n_features:\n",
        "    n_train_rsmes = []\n",
        "    n_test_rsmes = []\n",
        "    \n",
        "    for train_set, test_set, test_samples in split_train_set(sparse_data):\n",
        "        als_result = ALS(train_set, n_features=n, n_iters=5)\n",
        "        n_train_rsmes.append(als_result.RSME)\n",
        "        n_test_rsmes.append(rsme_cv(test_set, test_samples, als_result.R))\n",
        "    \n",
        "    train_rsmes.append(np.mean(n_train_rsmes))\n",
        "    test_rsmes.append(np.mean(n_test_rsmes))\n",
        "    \n",
        "plt.plot(n_features, train_rsmes, label='Train RSME')\n",
        "plt.plot(n_features, test_rsmes, label='Test RSME')\n",
        "plt.legend()\n",
        "plt.title('ALS - RMSE vs Number of features')\n",
        "plt.xlabel('Number of features')\n",
        "plt.ylabel('Test RSME')\n",
        "plt.show()"
      ],
      "execution_count": 0,
      "outputs": [
        {
          "output_type": "display_data",
          "data": {
            "image/png": "[encoded data removed]",
            "text/plain": [
              "<Figure size 576x396 with 1 Axes>"
            ]
          },
          "metadata": {
            "tags": []
          }
        }
      ]
    },
    {
      "metadata": {
        "id": "rDFBstTCDp2d",
        "colab_type": "text"
      },
      "cell_type": "markdown",
      "source": [
        "RMSE vs lambda for ALS"
      ]
    },
    {
      "metadata": {
        "id": "HivSUXtTDp2d",
        "colab_type": "code",
        "outputId": "48229f5b-7987-4ffa-f5d0-246b1a213eda",
        "colab": {
          "base_uri": "https://localhost:8080/",
          "height": 380
        }
      },
      "cell_type": "code",
      "source": [
        "lambdas = [0, 0.01, 0.1, 1.0, 10.0, 100.0]\n",
        "train_rsmes = []\n",
        "test_rsmes = []\n",
        "    \n",
        "for n in lambdas:\n",
        "    n_train_rsmes = []\n",
        "    n_test_rsmes = []\n",
        "    \n",
        "    for train_set, test_set, test_samples in split_train_set(sparse_data):\n",
        "        als_result = ALS(train_set, n_features=20, _lambda=n, n_iters=10)\n",
        "        n_train_rsmes.append(als_result.RSME)\n",
        "        n_test_rsmes.append(rsme_cv(test_set, test_samples, als_result.R))\n",
        "    \n",
        "    train_rsmes.append(np.mean(n_train_rsmes))\n",
        "    test_rsmes.append(np.mean(n_test_rsmes))\n",
        "    \n",
        "plt.plot(lambdas, train_rsmes, label='Train RSME')\n",
        "plt.plot(lambdas, test_rsmes, label='Test RSME')\n",
        "plt.xscale('log')\n",
        "plt.legend()\n",
        "plt.title('ALS - RMSE vs Lambda')\n",
        "plt.xlabel('Lambda')\n",
        "plt.ylabel('RSME')\n",
        "plt.show()"
      ],
      "execution_count": 0,
      "outputs": [
        {
          "output_type": "display_data",
          "data": {
            "image/png": "[encoded data removed]",
            "text/plain": [
              "<Figure size 576x396 with 1 Axes>"
            ]
          },
          "metadata": {
            "tags": []
          }
        }
      ]
    },
    {
      "metadata": {
        "id": "NVWZsl-lDp2i",
        "colab_type": "text"
      },
      "cell_type": "markdown",
      "source": [
        "RMSE vs Number of features and Lambda for ALS"
      ]
    },
    {
      "metadata": {
        "id": "sVG9RVDhDp2i",
        "colab_type": "code",
        "outputId": "910317d1-55f4-4067-8523-9ac51bb6937c",
        "colab": {
          "base_uri": "https://localhost:8080/",
          "height": 235
        }
      },
      "cell_type": "code",
      "source": [
        "train_set, test_set, test_samples = split_train_set(sparse_data)[0]\n",
        "n_features = [1, 3, 5, 10, 20]\n",
        "lambdas = [0, 0.01, 0.1, 1.0, 10.0, 100.0]\n",
        "results = []\n",
        "\n",
        "for n, l in product(n_features, lambdas):\n",
        "    als_result = ALS(train_set, n_features=n, _lambda=l, n_iters=10)\n",
        "    test_rsme = rsme_cv(test_set, test_samples, als_result.R)\n",
        "    \n",
        "    results.append({\n",
        "        \"Number of features\": n,\n",
        "        \"Lambdas\": l,\n",
        "        \"Test RSME\": round(test_rsme, 3)\n",
        "    })\n",
        "    \n",
        "pd.pivot_table(\n",
        "    pd.DataFrame(results), \n",
        "    values='Test RSME', \n",
        "    index=['Number of features'], \n",
        "    columns=['Lambdas']\n",
        ")"
      ],
      "execution_count": 0,
      "outputs": [
        {
          "output_type": "execute_result",
          "data": {
            "text/html": [
              "<div>\n",
              "<style scoped>\n",
              "    .dataframe tbody tr th:only-of-type {\n",
              "        vertical-align: middle;\n",
              "    }\n",
              "\n",
              "    .dataframe tbody tr th {\n",
              "        vertical-align: top;\n",
              "    }\n",
              "\n",
              "    .dataframe thead th {\n",
              "        text-align: right;\n",
              "    }\n",
              "</style>\n",
              "<table border=\"1\" class=\"dataframe\">\n",
              "  <thead>\n",
              "    <tr style=\"text-align: right;\">\n",
              "      <th>Lambdas</th>\n",
              "      <th>0.0</th>\n",
              "      <th>0.01</th>\n",
              "      <th>0.1</th>\n",
              "      <th>1.0</th>\n",
              "      <th>10.0</th>\n",
              "      <th>100.0</th>\n",
              "    </tr>\n",
              "    <tr>\n",
              "      <th>Number of features</th>\n",
              "      <th></th>\n",
              "      <th></th>\n",
              "      <th></th>\n",
              "      <th></th>\n",
              "      <th></th>\n",
              "      <th></th>\n",
              "    </tr>\n",
              "  </thead>\n",
              "  <tbody>\n",
              "    <tr>\n",
              "      <th>1</th>\n",
              "      <td>5.517</td>\n",
              "      <td>5.517</td>\n",
              "      <td>5.517</td>\n",
              "      <td>5.518</td>\n",
              "      <td>5.529</td>\n",
              "      <td>5.752</td>\n",
              "    </tr>\n",
              "    <tr>\n",
              "      <th>3</th>\n",
              "      <td>5.185</td>\n",
              "      <td>5.186</td>\n",
              "      <td>5.186</td>\n",
              "      <td>5.193</td>\n",
              "      <td>5.209</td>\n",
              "      <td>5.706</td>\n",
              "    </tr>\n",
              "    <tr>\n",
              "      <th>5</th>\n",
              "      <td>5.261</td>\n",
              "      <td>5.270</td>\n",
              "      <td>5.359</td>\n",
              "      <td>5.363</td>\n",
              "      <td>5.283</td>\n",
              "      <td>5.705</td>\n",
              "    </tr>\n",
              "    <tr>\n",
              "      <th>10</th>\n",
              "      <td>5.495</td>\n",
              "      <td>5.564</td>\n",
              "      <td>5.448</td>\n",
              "      <td>5.460</td>\n",
              "      <td>5.438</td>\n",
              "      <td>5.696</td>\n",
              "    </tr>\n",
              "    <tr>\n",
              "      <th>20</th>\n",
              "      <td>5.792</td>\n",
              "      <td>5.772</td>\n",
              "      <td>5.775</td>\n",
              "      <td>5.763</td>\n",
              "      <td>5.694</td>\n",
              "      <td>5.696</td>\n",
              "    </tr>\n",
              "  </tbody>\n",
              "</table>\n",
              "</div>"
            ],
            "text/plain": [
              "Lambdas             0.00    0.01    0.10    1.00    10.00   100.00\n",
              "Number of features                                                \n",
              "1                    5.517   5.517   5.517   5.518   5.529   5.752\n",
              "3                    5.185   5.186   5.186   5.193   5.209   5.706\n",
              "5                    5.261   5.270   5.359   5.363   5.283   5.705\n",
              "10                   5.495   5.564   5.448   5.460   5.438   5.696\n",
              "20                   5.792   5.772   5.775   5.763   5.694   5.696"
            ]
          },
          "metadata": {
            "tags": []
          },
          "execution_count": 43
        }
      ]
    },
    {
      "metadata": {
        "id": "EuVYxCx1Dp2l",
        "colab_type": "code",
        "colab": {}
      },
      "cell_type": "code",
      "source": [
        ""
      ],
      "execution_count": 0,
      "outputs": []
    }
  ]
}